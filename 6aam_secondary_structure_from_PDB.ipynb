{
 "cells": [
  {
   "cell_type": "markdown",
   "metadata": {},
   "source": [
    "# Assessing the secondary structure for PDB entry 6aam\n",
    "\n",
    "The PDB structure 6AAM is the structure of a Non-receptor tyrosine-protein kinase TYK2 solved by X-ray crystallography with a data resolution of 1.98Å. Further details are available from wwPDB web pages for the structure:\n",
    "\n",
    "* https://www.ebi.ac.uk/pdbe/entry/pdb/6aam/\n",
    "* https://www.rcsb.org/structure/6AAM\n",
    "* https://pdbj.org/mine/summary/6aam\n",
    "\n",
    "\n",
    "The data resolution and other validation metrics mean that this structure can be regarded as reliable, certainly for in its secondary structure.\n",
    "\n",
    "At the PDBe site on can visualise the 3D structure of 6AAM and produce a cartoon:\n",
    "\n",
    "<img src='6aam.png'>\n",
    "\n",
    "Here helices are show as magenta (alpha helix) or purple (3-10 helix) springs. In contrast beta sheet is show as yellow arrows and coil as  in white. Dotted lines show parts of the structure where atoms are not observed experimentally - likely because of disorder.\n",
    "\n",
    "The sequence for 6aam can be obtained from https://www.ebi.ac.uk/pdbe/entry/pdb/6aam/protein/1 and is 298 residues long."
   ]
  },
  {
   "cell_type": "code",
   "execution_count": 1,
   "metadata": {},
   "outputs": [
    {
     "name": "stdout",
     "output_type": "stream",
     "text": [
      "298\n"
     ]
    }
   ],
   "source": [
    "# 6aam sequence from https://www.ebi.ac.uk/pdbe/entry/pdb/6aam/protein/1\n",
    "sequence_6aam = ('GPGDPTVFHKRYLKKIRDLGEGHFGKVSLYCYDPTNDGTGEMVAVKALKADAGP'\n",
    "                 'QHRSGWKQEIDILRTLYHEHIIKYKGCCEDAGAASLQLVMEYVPLGSLRDYLPR'\n",
    "                 'HSIGLAQLLLFAQQICEGMAYLHAQHYIHRNLAARNVLLDNDRLVKIGDFGLAK'\n",
    "                 'AVPEGHEYYRVREDGDSPVFWYAPECLKEYKFYYASDVWSFGVTLYELLTHCDS'\n",
    "                 'SQSPPTKFLELIGLAQGQMTVLRLTELLERGERLPRPDKCPAEVYHLMKNCWET'\n",
    "                 'EASFRPTFENLIPILKTVHEKYQGQAPS')\n",
    "print(len(sequence_6aam))"
   ]
  },
  {
   "cell_type": "markdown",
   "metadata": {},
   "source": [
    "It can be noted that secondary structure is much more complicated than indicated by the simple classification of this data - full details are available from the analysis of the H-bonding arrangements. The program DSSP (https://swift.cmbi.umcn.nl/gv/dssp/DSSP_3.html) is a well-tested approach to this problem. This produces a description of the secondary structure in a known protein structure. For historical reasons DSSP uses E for Strands. A related DSSR program gives RNA secondary structure."
   ]
  },
  {
   "cell_type": "markdown",
   "metadata": {},
   "source": [
    "The secondary structure for all PDB entries as assessed by the DSSP program is available from https://cdn.rcsb.org/etl/kabschSander/ss_dis.txt.gz\n",
    "\n",
    "Downloading this file and uncompressing and finding the entry for 6AAM it we get:"
   ]
  },
  {
   "cell_type": "code",
   "execution_count": 2,
   "metadata": {},
   "outputs": [],
   "source": [
    "# from https://cdn.rcsb.org/etl/kabschSander/ss_dis.txt.gz\n",
    "dssp_result_for_6aam  = \"\"\">6AAM:A:secstr\n",
    "      B  GGGEEEEEE       EEEEEEE TT     EEEEEEE      TTHHHHHHHHHHHHHH   TTB\n",
    "  EEEEEEEGGGTEEEEEEE  TT BHHHHGGGS   HHHHHHHHHHHHHHHHHHHHTTEE S  SGGGEEEEET\n",
    "TEEEE   TT EE                 GGG  HHHHHH    HHHHHHHHHHHHHHHHTTT GGGSHHHHHH\n",
    "HHH S  TT HHHHHHHHHHTT      TT  HHHHHHHHHHT SSGGGS  HHHHHHHHHHHHHHHH     \n",
    "\"\"\"\n",
    "dssp_result_for_6aam = dssp_result_for_6aam.splitlines()\n",
    "dssp_result_for_6aam.pop(0)\n",
    "dssp_result_for_6aam = ''.join(dssp_result_for_6aam)\n",
    "assert len(dssp_result_for_6aam) == 298 # there should be 298 letters"
   ]
  },
  {
   "cell_type": "markdown",
   "metadata": {},
   "source": [
    "DSSP classifies secondary structure using many categories \n",
    "\n",
    "* G = 3-turn helix (310 helix). Min length 3 residues.\n",
    "* H = 4-turn helix (α helix). Minimum length 4 residues.\n",
    "* I = 5-turn helix (π helix). Minimum length 5 residues.\n",
    "* T = hydrogen bonded turn (3, 4 or 5 turn)\n",
    "* E = extended strand in parallel and/or anti-parallel β-sheet conformation. Min length 2 residues.\n",
    "* B = residue in isolated β-bridge (single pair β-sheet hydrogen bond formation)\n",
    "* S = bend (the only non-hydrogen-bond based assignment).\n",
    "* C = coil (residues which are not in any of the above conformations).\n",
    "\n",
    "from https://en.wikipedia.org/wiki/Protein_secondary_structure \n",
    "\n",
    "For secondary structure prediction it is normal to use only 3 categories `H`, `S` and `C` (helix, sheet and coil). So we need to map the DSSP classification to these:"
   ]
  },
  {
   "cell_type": "code",
   "execution_count": 3,
   "metadata": {},
   "outputs": [
    {
     "name": "stdout",
     "output_type": "stream",
     "text": [
      "CCCCCCSCCCCCSSSSSSCCCCCCCSSSSSSSCCCCCCCCSSSSSSSCCCCCCCCHHHHHHHHHHHHHHCCCCCSCCSSSSSSSCCCCSSSSSSSCCCCCSHHHHCCCSCCCHHHHHHHHHHHHHHHHHHHHCCSSCSCCSCCCSSSSSCCSSSSCCCCCCSSCCCCCCCCCCCCCCCCCCCCCCHHHHHHCCCCHHHHHHHHHHHHHHHHCCCCCCCSHHHHHHHHHCSCCCCCHHHHHHHHHHCCCCCCCCCCCCHHHHHHHHHHCCSSCCCSCCHHHHHHHHHHHHHHHHCCCCC\n"
     ]
    }
   ],
   "source": [
    "# need to convert DSSP code to the 3-category helix, strand, coil.\n",
    "# Use mapping \n",
    "# helices H, G, I go to H\n",
    "# strands E & bridges B go to S\n",
    "# everything else got to C\n",
    "translation = str.maketrans('HGIEB GT', 'HHHSSCCC')\n",
    "dssp_result_for_6aam = dssp_result_for_6aam.translate(translation)\n",
    "assert len(dssp_result_for_6aam) == 298 # must be as long as the sequence\n",
    "assert set(dssp_result_for_6aam) == set('HSC')  # only HSC allowed\n",
    "print(dssp_result_for_6aam)"
   ]
  },
  {
   "cell_type": "markdown",
   "metadata": {},
   "source": [
    "# test data from 6aam\n",
    "\n",
    "we want to get a set of data mapping 5'mer sequences to the secondary structure of the central residue from the 5'mer. Taking a sample every 10 residues produces a reasonable sample size"
   ]
  },
  {
   "cell_type": "code",
   "execution_count": 4,
   "metadata": {},
   "outputs": [
    {
     "name": "stdout",
     "output_type": "stream",
     "text": [
      "[('FHKRY', 'C'),\n",
      " ('DLGEG', 'C'),\n",
      " ('SLYCY', 'S'),\n",
      " ('GTGEM', 'C'),\n",
      " ('LKADA', 'C'),\n",
      " ('SGWKQ', 'H'),\n",
      " ('RTLYH', 'C'),\n",
      " ('YKGCC', 'S'),\n",
      " ('ASLQL', 'S'),\n",
      " ('PLGSL', 'C'),\n",
      " ('RHSIG', 'C'),\n",
      " ('LFAQQ', 'H'),\n",
      " ('AYLHA', 'H'),\n",
      " ('RNLAA', 'C'),\n",
      " ('DNDRL', 'C'),\n",
      " ('FGLAK', 'C'),\n",
      " ('HEYYR', 'C'),\n",
      " ('DSPVF', 'C'),\n",
      " ('CLKEY', 'H'),\n",
      " ('SDVWS', 'H'),\n",
      " ('YELLT', 'H'),\n",
      " ('QSPPT', 'H'),\n",
      " ('IGLAQ', 'S'),\n",
      " ('LRLTE', 'H'),\n",
      " ('ERLPR', 'C'),\n",
      " ('AEVYH', 'H'),\n",
      " ('WETEA', 'S'),\n",
      " ('FENLI', 'H'),\n",
      " ('VHEKY', 'H')]\n",
      "length of test_data_from_6aam 29\n"
     ]
    }
   ],
   "source": [
    "from pprint import pprint\n",
    "test_data_from_6aam = []\n",
    "for ires, dssp in enumerate(dssp_result_for_6aam):\n",
    "    if (ires+1)%10 == 0:\n",
    "        fivemer = sequence_6aam[ires-2:ires+3]\n",
    "        test_data_from_6aam.append((fivemer, dssp))\n",
    "pprint(test_data_from_6aam)  \n",
    "print('length of test_data_from_6aam', len(test_data_from_6aam))"
   ]
  },
  {
   "cell_type": "code",
   "execution_count": 5,
   "metadata": {},
   "outputs": [],
   "source": [
    "# copy data from cell above\n",
    "test_data_from_6aam = [('FHKRY', 'C'), ('DLGEG', 'C'), ('SLYCY', 'S'), ('GTGEM', 'C'),\n",
    "                       ('LKADA', 'C'), ('SGWKQ', 'H'), ('RTLYH', 'C'), ('YKGCC', 'S'),\n",
    "                       ('ASLQL', 'S'), ('PLGSL', 'C'), ('RHSIG', 'C'), ('LFAQQ', 'H'),\n",
    "                       ('AYLHA', 'H'), ('RNLAA', 'C'), ('DNDRL', 'C'), ('FGLAK', 'C'),\n",
    "                       ('HEYYR', 'C'), ('DSPVF', 'C'), ('CLKEY', 'H'), ('SDVWS', 'H'),\n",
    "                       ('YELLT', 'H'), ('QSPPT', 'H'), ('IGLAQ', 'S'), ('LRLTE', 'H'),\n",
    "                       ('ERLPR', 'C'), ('AEVYH', 'H'), ('WETEA', 'S'), ('FENLI', 'H'), \n",
    "                       ('VHEKY', 'H')]"
   ]
  },
  {
   "cell_type": "code",
   "execution_count": null,
   "metadata": {},
   "outputs": [],
   "source": []
  }
 ],
 "metadata": {
  "kernelspec": {
   "display_name": "Python 3",
   "language": "python",
   "name": "python3"
  },
  "language_info": {
   "codemirror_mode": {
    "name": "ipython",
    "version": 3
   },
   "file_extension": ".py",
   "mimetype": "text/x-python",
   "name": "python",
   "nbconvert_exporter": "python",
   "pygments_lexer": "ipython3",
   "version": "3.8.1"
  }
 },
 "nbformat": 4,
 "nbformat_minor": 4
}
